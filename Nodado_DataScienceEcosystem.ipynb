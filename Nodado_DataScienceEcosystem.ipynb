{
  "metadata": {
    "kernelspec": {
      "name": "python",
      "display_name": "Python (Pyodide)",
      "language": "python"
    },
    "language_info": {
      "codemirror_mode": {
        "name": "python",
        "version": 3
      },
      "file_extension": ".py",
      "mimetype": "text/x-python",
      "name": "python",
      "nbconvert_exporter": "python",
      "pygments_lexer": "ipython3",
      "version": "3.8"
    }
  },
  "nbformat_minor": 5,
  "nbformat": 4,
  "cells": [
    {
      "id": "421293ea-9a9a-4d8c-b396-83e2b71f94a3",
      "cell_type": "markdown",
      "source": "# Data Science Tools and Ecosystem by Alfred Dads D. Nodado",
      "metadata": {}
    },
    {
      "id": "6f24e489-8ae4-4c2f-8724-3ebcf6ffc191",
      "cell_type": "markdown",
      "source": "In this notebook, Data Science Tools and Ecosystem are summarized.",
      "metadata": {}
    },
    {
      "id": "a8190b3c-e3d5-4d23-ac7b-6b996ee47755",
      "cell_type": "markdown",
      "source": "**Objectives:**\n- List popular languages for Data Science\n- Identify commonly used libraries in Data Science  \n- Describe development environment open source tools\n- Evaluate arithmetic expressions in Python\n- Convert units using Python expressions",
      "metadata": {}
    },
    {
      "id": "8084e708-736b-44eb-acb4-c8482ce35219",
      "cell_type": "markdown",
      "source": "Some of the popular languages that Data Scientists use are:\n\n1. Python\n2. R  \n3. SQL\n4. Scala\n5. Java",
      "metadata": {}
    },
    {
      "id": "635fe403-8785-405e-8115-55fe320d8581",
      "cell_type": "markdown",
      "source": "Some of the commonly used libraries used by Data Scientists include:\n\n1. Pandas\n2. NumPy\n3. Matplotlib\n4. Scikit-learn\n5. TensorFlow",
      "metadata": {}
    },
    {
      "id": "64f567e6-8361-42da-aece-3ad1ff8e7b59",
      "cell_type": "markdown",
      "source": "| Data Science Tools |\n|--------------------|\n| Jupyter Notebooks  |\n| RStudio            |\n| Apache Spark       |",
      "metadata": {}
    },
    {
      "id": "af06434d-379c-4755-a49c-a7f23f3de1ba",
      "cell_type": "markdown",
      "source": "### Below are a few examples of evaluating arithmetic expressions in Python.",
      "metadata": {}
    },
    {
      "id": "87dc766f-6372-4a8f-b4e3-eac17facecc4",
      "cell_type": "code",
      "source": "# This a simple arithmetic expression to multiply then add integers\n(3*4)+5",
      "metadata": {
        "trusted": true
      },
      "outputs": [],
      "execution_count": null
    },
    {
      "id": "abbc60c3-1c63-4a3f-b905-28b9912c163f",
      "cell_type": "code",
      "source": "# This will convert 200 minutes to hours by dividing by 60\n200/60",
      "metadata": {
        "trusted": true
      },
      "outputs": [],
      "execution_count": null
    },
    {
      "id": "9ae80539-bf60-4268-86b8-d2aa88a3f014",
      "cell_type": "markdown",
      "source": "## This was curated by Alfred Dads D. Nodado from Mapua Malayan Colleges Mindanao",
      "metadata": {}
    }
  ]
}